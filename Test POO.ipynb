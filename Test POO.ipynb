{
  "nbformat": 4,
  "nbformat_minor": 0,
  "metadata": {
    "colab": {
      "name": "Test POO.ipynb",
      "provenance": []
    },
    "kernelspec": {
      "name": "python3",
      "display_name": "Python 3"
    },
    "language_info": {
      "name": "python"
    }
  },
  "cells": [
    {
      "cell_type": "markdown",
      "source": [
        "# Programación Orientada a Objetos - POO"
      ],
      "metadata": {
        "id": "hK2OWkHxfx-6"
      }
    },
    {
      "cell_type": "markdown",
      "source": [
        "* La programación orientada a objetos nos ayuda a programar más rápido\n",
        "      Verdadero\n",
        "\n",
        "\n",
        "* El código espagueti es uno de los problemas que resuelve la programación orientada a objetos. ¿De qué se trata?\n",
        "      Código con demasiados if anidados\n",
        "\n",
        "\n",
        "* El paradigma orientado a objetos resuelve la necesidad de modelar un probelma en __ y plasmarlo en _____.\n",
        "      Objetos, código\n",
        "\n",
        "\n",
        "* Estos son dos pilares de la programación orientada a objetos:\n",
        "      Abstracción y Herencia\n",
        "\n",
        "\n",
        "* ¿Qué siginifcan las siglas UML?\n",
        "      Unifed Modeling Language\n",
        "\n",
        "\n",
        "* ¿Cuál es la definición de un objeto?\n",
        "      Una instancia de una clase\n",
        "\n",
        "\n",
        "* ¿Cuál sería la abstracción de el siguiente ejemplo? Casa de 3 recámaras y 2 baños y Apartamento de 2 recámaras y 1 baño\n",
        "      Inmueble\n",
        "\n",
        "\n",
        "* La modularidad nos permite tener independencia en el código y evitar colapsos de software.\n",
        "      Verdadero\n",
        "\n",
        "\n",
        "* En un sistema de ventas de autos ¿cuál de estas opciones describe mejor los objetos involucrados?\n",
        "      Auto, Vendedor, Cliente\n",
        "\n",
        "\n",
        "* ¿Cuál es la palabra reservada para definir una clase en Java?\n",
        "      class\n",
        "\n",
        "\n",
        "* Los atributos de un objeto deben ser:\n",
        "      sustantivos\n",
        "\n",
        "\n",
        "* Si entre clases tengo muchos atributos en común que son redundantes lo mejor es aplicar:\n",
        "      Herencia\n",
        "\n",
        "\n",
        "* Tenemos una tienda online que vende blusas, jeans, medias, smarphones, audifonos, computadoras y pantallas. Si ejecutamos un análisis POO y apicamos herencia, ¿cuáles serían las clases padres?\n",
        "      Ropa y AparatoElectronico\n",
        "\n",
        "\n",
        "* ¿Cuál es la palabra reservada para definir una clase en Python?\n",
        "      class\n",
        "\n",
        "\n",
        "* ¿Cuál es el famoso método que nos permite generar la inicialización de un objeto?\n",
        "      constructor\n",
        "\n",
        "\n",
        "* ¿Qué es un objeto?\n",
        "      La instancia de una clase\n",
        "\n",
        "\n",
        "* ¿Cuál es la principal característica de los métodos constructores?\n",
        "      Tienen el mismo nombre de la clase\n",
        "\n",
        "\n",
        "* ¿Cuál de estos sí es un método constructor en Python?\n",
        "      __ init__()\n",
        "\n",
        "\n",
        "* ¿Cuál es la palabra clave para aplicar herencia en PHP?\n",
        "      extends\n",
        "\n",
        "\n",
        "* Una forma de encapsular código es haciendo invisible ciertas variables para otros miembros:\n",
        "      Verdadero\n",
        "\n",
        "\n",
        "* ¿Cuál es el modificador de acceso más restrictivo de todos y genera mayor encapsulamiento?\n",
        "      private\n",
        "\n",
        "\n",
        "* ¿Cuál es la verdadera ventaja de usar polimorfismo?\n",
        "      Poder añadir o cambiar el comportamiento de un modelo"
      ],
      "metadata": {
        "id": "bxfOIPeSf4hm"
      }
    }
  ]
}